{
  "nbformat": 4,
  "nbformat_minor": 0,
  "metadata": {
    "colab": {
      "name": "contest1-งานคู่",
      "provenance": [],
      "collapsed_sections": [],
      "machine_shape": "hm"
    },
    "kernelspec": {
      "name": "python3",
      "display_name": "Python 3"
    }
  },
  "cells": [
    {
      "cell_type": "code",
      "metadata": {
        "id": "pxTufNaiHT3G",
        "colab_type": "code",
        "colab": {
          "base_uri": "https://localhost:8080/",
          "height": 85
        },
        "outputId": "ef6c124a-c661-4cf5-850d-507d1e8739eb"
      },
      "source": [
        "!gdown --id 0B7XkCwpI5KDYNlNUTTlSS21pQmM"
      ],
      "execution_count": null,
      "outputs": [
        {
          "output_type": "stream",
          "text": [
            "Downloading...\n",
            "From: https://drive.google.com/uc?id=0B7XkCwpI5KDYNlNUTTlSS21pQmM\n",
            "To: /content/GoogleNews-vectors-negative300.bin.gz\n",
            "1.65GB [00:08, 195MB/s]\n"
          ],
          "name": "stdout"
        }
      ]
    },
    {
      "cell_type": "code",
      "metadata": {
        "id": "qLmLmtB0dzsa",
        "colab_type": "code",
        "colab": {
          "base_uri": "https://localhost:8080/",
          "height": 84
        },
        "outputId": "f1f2519d-ec2a-4269-90c3-29c7253bd02d"
      },
      "source": [
        "!gdown --id 1TLNXKvF52x3rEemhFXCRSV0OPGbsj-Le"
      ],
      "execution_count": null,
      "outputs": [
        {
          "output_type": "stream",
          "text": [
            "Downloading...\n",
            "From: https://drive.google.com/uc?id=1TLNXKvF52x3rEemhFXCRSV0OPGbsj-Le\n",
            "To: /content/GoogleNews-vectors-negative300.bin.gz\n",
            "1.65GB [00:35, 46.2MB/s]\n"
          ],
          "name": "stdout"
        }
      ]
    },
    {
      "cell_type": "code",
      "metadata": {
        "id": "DdPvB2cJTLLm",
        "colab_type": "code",
        "colab": {}
      },
      "source": [
        "a = ['asdkfopaskdflkjasldfkaksdlfkl;askdfl;ksad']\n",
        "while True:\n",
        "  a *= 1000"
      ],
      "execution_count": null,
      "outputs": []
    },
    {
      "cell_type": "code",
      "metadata": {
        "id": "naZhxx--NtzF",
        "colab_type": "code",
        "colab": {
          "base_uri": "https://localhost:8080/",
          "height": 34
        },
        "outputId": "b142fe70-6c51-4cff-f955-f7e01b794555"
      },
      "source": [
        "%tensorflow_version 1.x\n",
        "\n",
        "import numpy as np\n",
        "import pandas as pd\n",
        "from numpy.linalg import norm\n",
        "from sklearn.metrics import classification_report, confusion_matrix\n",
        "from IPython.display import Image, display_png\n",
        "from gensim.models import word2vec, KeyedVectors\n",
        "from keras.models import Sequential\n",
        "from keras.layers import Input, Embedding, Dense, Dropout, Flatten, GlobalAveragePooling1D, LSTM\n",
        "from keras.utils import to_categorical, plot_model\n",
        "from keras.preprocessing.sequence import pad_sequences\n",
        "from keras.optimizers import RMSprop\n",
        "import matplotlib.pyplot as plt\n",
        "plt.style.use('ggplot')"
      ],
      "execution_count": null,
      "outputs": [
        {
          "output_type": "stream",
          "text": [
            "Using TensorFlow backend.\n"
          ],
          "name": "stderr"
        }
      ]
    },
    {
      "cell_type": "code",
      "metadata": {
        "id": "1vY-SE2uOu87",
        "colab_type": "code",
        "colab": {}
      },
      "source": [
        "data = pd.read_csv('lab4_train.csv') \n",
        "train, dev = np.split(data, [int(len(data)*0.8)])"
      ],
      "execution_count": null,
      "outputs": []
    },
    {
      "cell_type": "code",
      "metadata": {
        "id": "gE3GJstKHWIG",
        "colab_type": "code",
        "colab": {}
      },
      "source": [
        "!gunzip --keep /content/GoogleNews-vectors-negative300.bin.gz"
      ],
      "execution_count": null,
      "outputs": []
    },
    {
      "cell_type": "code",
      "metadata": {
        "id": "vvIIxeFOHWLd",
        "colab_type": "code",
        "colab": {
          "base_uri": "https://localhost:8080/",
          "height": 50
        },
        "outputId": "83d1ee8d-0f85-4f79-f6c4-06acbb670893"
      },
      "source": [
        "!ls"
      ],
      "execution_count": null,
      "outputs": [
        {
          "output_type": "stream",
          "text": [
            "GoogleNews-vectors-negative300.bin     lab4_train.csv\n",
            "GoogleNews-vectors-negative300.bin.gz  sample_data\n"
          ],
          "name": "stdout"
        }
      ]
    },
    {
      "cell_type": "code",
      "metadata": {
        "id": "Ce2RhfQHHWNe",
        "colab_type": "code",
        "colab": {
          "base_uri": "https://localhost:8080/",
          "height": 71
        },
        "outputId": "b920f720-eac2-4ee5-96e3-853f99c3ed3c"
      },
      "source": [
        "from gensim.models import word2vec, KeyedVectors\n",
        "google_model = KeyedVectors.load_word2vec_format('GoogleNews-vectors-negative300.bin', binary=True)\n"
      ],
      "execution_count": null,
      "outputs": [
        {
          "output_type": "stream",
          "text": [
            "/usr/local/lib/python3.6/dist-packages/smart_open/smart_open_lib.py:402: UserWarning: This function is deprecated, use smart_open.open instead. See the migration notes for details: https://github.com/RaRe-Technologies/smart_open/blob/master/README.rst#migrating-to-the-new-open-function\n",
            "  'See the migration notes for details: %s' % _MIGRATION_NOTES_URL\n"
          ],
          "name": "stderr"
        }
      ]
    },
    {
      "cell_type": "code",
      "metadata": {
        "id": "QgqQHKEgHWQu",
        "colab_type": "code",
        "colab": {}
      },
      "source": [
        "vocab_size = len(google_model.vocab)\n",
        "vector_dim = len(google_model['home'])\n",
        "max_len = 70"
      ],
      "execution_count": null,
      "outputs": []
    },
    {
      "cell_type": "code",
      "metadata": {
        "id": "mKuyuVCiHWSt",
        "colab_type": "code",
        "colab": {}
      },
      "source": [
        "# word to index dictionary, 0 for padding, UNKNOWN\n",
        "word_to_index = {'PADDING':0}\n",
        "\n",
        "# make weight matrix of word embedding, vocab size + 1 (for padding)\n",
        "embedding_matrix = np.zeros((vocab_size+1, vector_dim), dtype=\"float32\")\n",
        "embedding_matrix[0] = np.zeros(vector_dim)\n",
        "\n",
        "for i, word in enumerate(google_model.vocab):\n",
        "    word_to_index[word] = i+1\n",
        "    embedding_matrix[i+1] = google_model[word] "
      ],
      "execution_count": null,
      "outputs": []
    },
    {
      "cell_type": "code",
      "metadata": {
        "id": "0jEGSr7LHWW2",
        "colab_type": "code",
        "colab": {
          "base_uri": "https://localhost:8080/",
          "height": 34
        },
        "outputId": "98964db2-113d-4244-849f-7057977c9c8c"
      },
      "source": [
        "word_to_index['home']"
      ],
      "execution_count": null,
      "outputs": [
        {
          "output_type": "execute_result",
          "data": {
            "text/plain": [
              "125"
            ]
          },
          "metadata": {
            "tags": []
          },
          "execution_count": 7
        }
      ]
    },
    {
      "cell_type": "code",
      "metadata": {
        "id": "-WFEOZKEqt98",
        "colab_type": "code",
        "colab": {
          "base_uri": "https://localhost:8080/",
          "height": 68
        },
        "outputId": "6c08509c-d2cc-4e61-98cc-ab776a58ffcc"
      },
      "source": [
        "import nltk\n",
        "nltk.download('punkt')"
      ],
      "execution_count": null,
      "outputs": [
        {
          "output_type": "stream",
          "text": [
            "[nltk_data] Downloading package punkt to /root/nltk_data...\n",
            "[nltk_data]   Unzipping tokenizers/punkt.zip.\n"
          ],
          "name": "stdout"
        },
        {
          "output_type": "execute_result",
          "data": {
            "text/plain": [
              "True"
            ]
          },
          "metadata": {
            "tags": []
          },
          "execution_count": 9
        }
      ]
    },
    {
      "cell_type": "code",
      "metadata": {
        "id": "Lq8GF3lYScg7",
        "colab_type": "code",
        "colab": {}
      },
      "source": [
        "from nltk import word_tokenize\n",
        "train['tokenized'] = train['text'].apply(word_tokenize)\n",
        "dev['tokenized'] = dev['text'].apply(word_tokenize)"
      ],
      "execution_count": null,
      "outputs": []
    },
    {
      "cell_type": "code",
      "metadata": {
        "id": "xnfM6l9eHWZ7",
        "colab_type": "code",
        "colab": {}
      },
      "source": [
        "# convert word to index (maximum: first 500 words)\n",
        "def w2i(tokens):\n",
        "    return [word_to_index.get(word, 0) for word in tokens[:max_len]]\n",
        "\n",
        "# apply functions & convert to np.array\n",
        "input_train = np.array(train['tokenized'].apply(w2i).tolist())\n",
        "input_dev = np.array(dev['tokenized'].apply(w2i).tolist())\n",
        "\n",
        "# input : zero padding\n",
        "train_x = pad_sequences(input_train, max_len, padding='post')\n",
        "dev_x = pad_sequences(input_dev, max_len, padding='post')"
      ],
      "execution_count": null,
      "outputs": []
    },
    {
      "cell_type": "code",
      "metadata": {
        "id": "EbjHyVYVHWdq",
        "colab_type": "code",
        "colab": {}
      },
      "source": [
        "def relabel(aspect):\n",
        "  categories = list(train['aspectCategory'].unique())\n",
        "  return categories.index(aspect)\n",
        "\n",
        "# apply functions & convert to np.array\n",
        "label_train = np.array(train['aspectCategory'].apply(relabel).tolist())\n",
        "label_dev = np.array(dev['aspectCategory'].apply(relabel).tolist())\n",
        "\n",
        "# label : one-hot vector\n",
        "train_y = to_categorical(label_train, num_classes=5)\n",
        "dev_y = to_categorical(label_dev, num_classes=5)"
      ],
      "execution_count": null,
      "outputs": []
    },
    {
      "cell_type": "code",
      "metadata": {
        "id": "bGdjp5CvHWoA",
        "colab_type": "code",
        "colab": {
          "base_uri": "https://localhost:8080/",
          "height": 84
        },
        "outputId": "5e64d5a3-3f4e-4927-b3e6-ea258271f422"
      },
      "source": [
        "# check the shape\n",
        "print('input train:', train_x.shape)\n",
        "print('input dev:', dev_x.shape)\n",
        "print('label train:', train_y.shape)\n",
        "print('label dev:',dev_y.shape)"
      ],
      "execution_count": null,
      "outputs": [
        {
          "output_type": "stream",
          "text": [
            "input train: (2524, 70)\n",
            "input dev: (632, 70)\n",
            "label train: (2524, 5)\n",
            "label dev: (632, 5)\n"
          ],
          "name": "stdout"
        }
      ]
    },
    {
      "cell_type": "code",
      "metadata": {
        "id": "dZ5GSp7JHWta",
        "colab_type": "code",
        "colab": {
          "base_uri": "https://localhost:8080/",
          "height": 290
        },
        "outputId": "1a479537-3eda-4e97-af91-3bf596aee4c2"
      },
      "source": [
        "# instantiation\n",
        "model = Sequential()\n",
        "\n",
        "# add embedding layer\n",
        "model.add(Embedding(input_dim=vocab_size+1,\n",
        "                    input_length=max_len,\n",
        "                    output_dim=vector_dim, \n",
        "                    weights=[embedding_matrix], \n",
        "                    mask_zero=True,\n",
        "                    trainable=False))\n",
        "\n",
        "# average\n",
        "model.add(LSTM(200))\n",
        "\n",
        "# add hidden layer\n",
        "model.add(Dense(150, activation='relu'))\n",
        "\n",
        "\n",
        "# add output layer\n",
        "model.add(Dense(5, activation='softmax'))\n",
        "\n",
        "# compile model\n",
        "model.compile(optimizer=\"adam\", loss=\"categorical_crossentropy\", metrics=[\"accuracy\"])\n",
        "\n",
        "model.summary()"
      ],
      "execution_count": null,
      "outputs": [
        {
          "output_type": "stream",
          "text": [
            "Model: \"sequential_2\"\n",
            "_________________________________________________________________\n",
            "Layer (type)                 Output Shape              Param #   \n",
            "=================================================================\n",
            "embedding_2 (Embedding)      (None, 70, 300)           900000300 \n",
            "_________________________________________________________________\n",
            "lstm_2 (LSTM)                (None, 200)               400800    \n",
            "_________________________________________________________________\n",
            "dense_3 (Dense)              (None, 150)               30150     \n",
            "_________________________________________________________________\n",
            "dense_4 (Dense)              (None, 5)                 755       \n",
            "=================================================================\n",
            "Total params: 900,432,005\n",
            "Trainable params: 431,705\n",
            "Non-trainable params: 900,000,300\n",
            "_________________________________________________________________\n"
          ],
          "name": "stdout"
        }
      ]
    },
    {
      "cell_type": "code",
      "metadata": {
        "id": "Tgcc66JxHWqI",
        "colab_type": "code",
        "colab": {
          "base_uri": "https://localhost:8080/",
          "height": 533
        },
        "outputId": "a27146ca-831c-4064-a83c-b72f68ae3a38"
      },
      "source": [
        "plot_model(model, show_shapes=True,to_file='model.png')\n",
        "display_png(Image('model.png'))"
      ],
      "execution_count": null,
      "outputs": [
        {
          "output_type": "display_data",
          "data": {
            "image/png": "[encoded data removed]"
          },
          "metadata": {
            "tags": []
          }
        }
      ]
    },
    {
      "cell_type": "code",
      "metadata": {
        "id": "qniwjxLqe1f1",
        "colab_type": "code",
        "colab": {
          "base_uri": "https://localhost:8080/",
          "height": 134
        },
        "outputId": "34643b8c-36c9-4df3-c72d-a31654f3bfc7"
      },
      "source": [
        "train_x"
      ],
      "execution_count": null,
      "outputs": [
        {
          "output_type": "execute_result",
          "data": {
            "text/plain": [
              "array([[   85,    12,   555, ...,     0,     0,     0],\n",
              "       [  383,    17,  1882, ...,     0,     0,     0],\n",
              "       [  383,    17,  1882, ...,     0,     0,     0],\n",
              "       ...,\n",
              "       [   21,    22, 11813, ...,     0,     0,     0],\n",
              "       [   63,    38,  3050, ...,     0,     0,     0],\n",
              "       [65089,  3447,   561, ...,     0,     0,     0]], dtype=int32)"
            ]
          },
          "metadata": {
            "tags": []
          },
          "execution_count": 25
        }
      ]
    },
    {
      "cell_type": "code",
      "metadata": {
        "id": "dIRvn86krDMz",
        "colab_type": "code",
        "colab": {
          "base_uri": "https://localhost:8080/",
          "height": 134
        },
        "outputId": "4a657476-647e-41c5-bbcb-8fa287eb6832"
      },
      "source": [
        "train_y"
      ],
      "execution_count": null,
      "outputs": [
        {
          "output_type": "execute_result",
          "data": {
            "text/plain": [
              "array([[1., 0., 0., 0., 0.],\n",
              "       [0., 1., 0., 0., 0.],\n",
              "       [0., 0., 1., 0., 0.],\n",
              "       ...,\n",
              "       [0., 0., 1., 0., 0.],\n",
              "       [0., 1., 0., 0., 0.],\n",
              "       [0., 1., 0., 0., 0.]], dtype=float32)"
            ]
          },
          "metadata": {
            "tags": []
          },
          "execution_count": 26
        }
      ]
    },
    {
      "cell_type": "code",
      "metadata": {
        "id": "6IDd3KtfHWmq",
        "colab_type": "code",
        "colab": {
          "base_uri": "https://localhost:8080/",
          "height": 716
        },
        "outputId": "d46a5e07-78c4-4f50-e49e-314041f411eb"
      },
      "source": [
        "# train\n",
        "history = model.fit(train_x, train_y, batch_size=8, epochs=20, validation_data=(dev_x, dev_y))"
      ],
      "execution_count": null,
      "outputs": [
        {
          "output_type": "stream",
          "text": [
            "Train on 2524 samples, validate on 632 samples\n",
            "Epoch 1/20\n",
            "2524/2524 [==============================] - 30s 12ms/step - loss: 4.8147 - acc: 0.4742 - val_loss: 3.5333 - val_acc: 0.5174\n",
            "Epoch 2/20\n",
            "2524/2524 [==============================] - 29s 11ms/step - loss: 3.5146 - acc: 0.4853 - val_loss: 3.5139 - val_acc: 0.5427\n",
            "Epoch 3/20\n",
            "2524/2524 [==============================] - 29s 11ms/step - loss: 2.2132 - acc: 0.5214 - val_loss: 1.3572 - val_acc: 0.5222\n",
            "Epoch 4/20\n",
            "2524/2524 [==============================] - 29s 11ms/step - loss: 1.2434 - acc: 0.5567 - val_loss: 1.4087 - val_acc: 0.5174\n",
            "Epoch 5/20\n",
            "2524/2524 [==============================] - 29s 11ms/step - loss: 1.3372 - acc: 0.5622 - val_loss: 1.4701 - val_acc: 0.4241\n",
            "Epoch 6/20\n",
            "2524/2524 [==============================] - 28s 11ms/step - loss: 1.2458 - acc: 0.5551 - val_loss: 1.1606 - val_acc: 0.6092\n",
            "Epoch 7/20\n",
            "2524/2524 [==============================] - 29s 11ms/step - loss: 1.2669 - acc: 0.6300 - val_loss: 1.6824 - val_acc: 0.6408\n",
            "Epoch 8/20\n",
            "2524/2524 [==============================] - 32s 13ms/step - loss: 3.6877 - acc: 0.4691 - val_loss: 1.7244 - val_acc: 0.1804\n",
            "Epoch 9/20\n",
            "2524/2524 [==============================] - 29s 11ms/step - loss: 1.3355 - acc: 0.4085 - val_loss: 1.3527 - val_acc: 0.3370\n",
            "Epoch 10/20\n",
            "2524/2524 [==============================] - 29s 11ms/step - loss: 1.1844 - acc: 0.5055 - val_loss: 1.2881 - val_acc: 0.5570\n",
            "Epoch 11/20\n",
            "2524/2524 [==============================] - 29s 11ms/step - loss: 1.0680 - acc: 0.6549 - val_loss: 1.0537 - val_acc: 0.6551\n",
            "Epoch 12/20\n",
            "2524/2524 [==============================] - 28s 11ms/step - loss: 0.9327 - acc: 0.6521 - val_loss: 1.3054 - val_acc: 0.6408\n",
            "Epoch 13/20\n",
            "2524/2524 [==============================] - 29s 11ms/step - loss: 1.1123 - acc: 0.5317 - val_loss: 1.1241 - val_acc: 0.6392\n",
            "Epoch 14/20\n",
            "2524/2524 [==============================] - 29s 11ms/step - loss: 1.0573 - acc: 0.5574 - val_loss: 1.0507 - val_acc: 0.6028\n",
            "Epoch 15/20\n",
            "2524/2524 [==============================] - 29s 11ms/step - loss: 0.8677 - acc: 0.6854 - val_loss: 1.1420 - val_acc: 0.6661\n",
            "Epoch 16/20\n",
            "2524/2524 [==============================] - 29s 11ms/step - loss: 0.7933 - acc: 0.6850 - val_loss: 0.8842 - val_acc: 0.6630\n",
            "Epoch 17/20\n",
            "2524/2524 [==============================] - 29s 11ms/step - loss: 0.7765 - acc: 0.7207 - val_loss: 0.9792 - val_acc: 0.6709\n",
            "Epoch 18/20\n",
            "2524/2524 [==============================] - 29s 11ms/step - loss: 0.7826 - acc: 0.6890 - val_loss: 1.0784 - val_acc: 0.4430\n",
            "Epoch 19/20\n",
            "2524/2524 [==============================] - 29s 11ms/step - loss: 0.9895 - acc: 0.5630 - val_loss: 1.1065 - val_acc: 0.4842\n",
            "Epoch 20/20\n",
            "2524/2524 [==============================] - 28s 11ms/step - loss: 0.9216 - acc: 0.6094 - val_loss: 1.2292 - val_acc: 0.4003\n"
          ],
          "name": "stdout"
        }
      ]
    },
    {
      "cell_type": "code",
      "metadata": {
        "id": "ZmQ3rK4JHWi8",
        "colab_type": "code",
        "colab": {
          "base_uri": "https://localhost:8080/",
          "height": 281
        },
        "outputId": "dc895f40-6048-466a-8b68-55b42d4fe799"
      },
      "source": [
        "plt.plot(history.history['acc'])\n",
        "plt.plot(history.history['val_acc'])\n",
        "plt.ylabel('accuracy')\n",
        "plt.xlabel('epoch')\n",
        "plt.legend(['train', 'dev'], loc='best')\n",
        "plt.show()"
      ],
      "execution_count": null,
      "outputs": [
        {
          "output_type": "display_data",
          "data": {
            "image/png": "[encoded data removed]",
            "text/plain": [
              "<Figure size 432x288 with 1 Axes>"
            ]
          },
          "metadata": {
            "tags": []
          }
        }
      ]
    },
    {
      "cell_type": "code",
      "metadata": {
        "id": "4Yor0dlKHWhn",
        "colab_type": "code",
        "colab": {
          "base_uri": "https://localhost:8080/",
          "height": 285
        },
        "outputId": "bc64179c-220a-44e9-ed93-bb5a35e8fcf9"
      },
      "source": [
        "plt.plot(history.history['loss'])\n",
        "plt.plot(history.history['val_loss'])\n",
        "plt.ylabel('loss')\n",
        "plt.xlabel('epoch')\n",
        "plt.legend(['train', 'dev'], loc='best')\n",
        "plt.show()"
      ],
      "execution_count": null,
      "outputs": [
        {
          "output_type": "display_data",
          "data": {
            "image/png": "[encoded data removed]",
            "text/plain": [
              "<Figure size 432x288 with 1 Axes>"
            ]
          },
          "metadata": {
            "tags": []
          }
        }
      ]
    },
    {
      "cell_type": "code",
      "metadata": {
        "id": "U86VjvqTbR-h",
        "colab_type": "code",
        "colab": {
          "base_uri": "https://localhost:8080/",
          "height": 221
        },
        "outputId": "24ed4517-bab5-439d-832a-198849a2d129"
      },
      "source": [
        "prediction = [np.argmax(x) for x in model.predict(dev_x)]\n",
        "print(classification_report(label_dev, prediction))"
      ],
      "execution_count": null,
      "outputs": [
        {
          "output_type": "stream",
          "text": [
            "              precision    recall  f1-score   support\n",
            "\n",
            "           0       1.00      0.03      0.06       104\n",
            "           1       0.79      0.47      0.59       203\n",
            "           2       0.89      0.45      0.60       194\n",
            "           3       1.00      0.02      0.03        60\n",
            "           4       0.16      0.94      0.28        71\n",
            "\n",
            "    accuracy                           0.40       632\n",
            "   macro avg       0.77      0.38      0.31       632\n",
            "weighted avg       0.80      0.40      0.41       632\n",
            "\n"
          ],
          "name": "stdout"
        }
      ]
    },
    {
      "cell_type": "code",
      "metadata": {
        "id": "hG4FNtsRbSN0",
        "colab_type": "code",
        "colab": {}
      },
      "source": [
        "##อาณาเขตของ หยง ๆ ห้ามยุ่ง##"
      ],
      "execution_count": null,
      "outputs": []
    },
    {
      "cell_type": "code",
      "metadata": {
        "id": "_IoUg2fzbSX1",
        "colab_type": "code",
        "colab": {}
      },
      "source": [
        ""
      ],
      "execution_count": null,
      "outputs": []
    },
    {
      "cell_type": "code",
      "metadata": {
        "id": "B677Kw9XbSeM",
        "colab_type": "code",
        "colab": {}
      },
      "source": [
        ""
      ],
      "execution_count": null,
      "outputs": []
    },
    {
      "cell_type": "code",
      "metadata": {
        "id": "vpI_va1tHWft",
        "colab_type": "code",
        "colab": {}
      },
      "source": [
        ""
      ],
      "execution_count": null,
      "outputs": []
    },
    {
      "cell_type": "code",
      "metadata": {
        "id": "nYl7dhLBHWb_",
        "colab_type": "code",
        "colab": {}
      },
      "source": [
        ""
      ],
      "execution_count": null,
      "outputs": []
    },
    {
      "cell_type": "code",
      "metadata": {
        "id": "PaY4G4l_HWYs",
        "colab_type": "code",
        "colab": {}
      },
      "source": [
        ""
      ],
      "execution_count": null,
      "outputs": []
    },
    {
      "cell_type": "code",
      "metadata": {
        "id": "V0iAPVsxHWU7",
        "colab_type": "code",
        "colab": {}
      },
      "source": [
        ""
      ],
      "execution_count": null,
      "outputs": []
    },
    {
      "cell_type": "code",
      "metadata": {
        "id": "szXqvTA3HWKS",
        "colab_type": "code",
        "colab": {}
      },
      "source": [
        ""
      ],
      "execution_count": null,
      "outputs": []
    }
  ]
}